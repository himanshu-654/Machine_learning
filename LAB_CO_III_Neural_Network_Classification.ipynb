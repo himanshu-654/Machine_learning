{
  "nbformat": 4,
  "nbformat_minor": 0,
  "metadata": {
    "colab": {
      "name": "Copy of CO III  Neural_Network_Classification.ipynb",
      "provenance": [],
      "collapsed_sections": []
    },
    "kernelspec": {
      "name": "python3",
      "display_name": "Python 3"
    },
    "language_info": {
      "name": "python"
    }
  },
  "cells": [
    {
      "cell_type": "markdown",
      "metadata": {
        "id": "nhPEM4IUoDKA"
      },
      "source": [
        "# Joint Online Faculty Development programme on Deep Learning (Parallel Architecture) Aug 23 – Sep 3 , 2021\n",
        "\n"
      ]
    },
    {
      "cell_type": "markdown",
      "metadata": {
        "id": "ZpJe0cAaoG98"
      },
      "source": [
        "# Tutorial 3: Neural Network Classification"
      ]
    },
    {
      "cell_type": "markdown",
      "metadata": {
        "id": "dIT7QrK2PwdM"
      },
      "source": [
        "Dataset: [Pima Indian Diabetes Dataset](https://data.world/data-society/pima-indians-diabetes-database#)\n",
        "\n",
        "This dataset is originally from the National Institute of Diabetes and Digestive and Kidney Diseases. The objective is to predict based on diagnostic measurements whether a patient has diabetes.\n",
        "\n",
        "Several constraints were placed on the selection of these instances from a larger database. In particular, all patients here are females at least 21 years old of Pima Indian heritage.\n",
        "\n",
        "Attributes of PIMA dataset:\n",
        "\n",
        "**Pregnancies**: Number of times pregnant\n",
        "\n",
        "**Glucose**: Plasma glucose concentration a 2 hours in an oral glucose tolerance test\n",
        "\n",
        "**BloodPressure**: Diastolic blood pressure (mm Hg)\n",
        "\n",
        "**SkinThickness**: Triceps skin fold thickness (mm)\n",
        "\n",
        "**Insulin**: 2-Hour serum insulin (mu U/ml)\n",
        "\n",
        "**BMI**: Body mass index (weight in kg/(height in m)^2)\n",
        "\n",
        "**DiabetesPedigreeFunction**: Diabetes pedigree function\n",
        "\n",
        "**Age**: Age (years)\n",
        "\n",
        "**Outcome**: Class variable (0 or 1)"
      ]
    },
    {
      "cell_type": "markdown",
      "metadata": {
        "id": "FIAgs3sTY712"
      },
      "source": [
        "**1. Mount the Google Drive**"
      ]
    },
    {
      "cell_type": "code",
      "metadata": {
        "colab": {
          "base_uri": "https://localhost:8080/"
        },
        "id": "CrZg_G5MQ4L5",
        "outputId": "22c6043c-e95b-4e2d-86fc-2c09739a0ba9"
      },
      "source": [
        "from google.colab import drive\n",
        "drive.mount('/content/drive')"
      ],
      "execution_count": null,
      "outputs": [
        {
          "output_type": "stream",
          "name": "stdout",
          "text": [
            "Drive already mounted at /content/drive; to attempt to forcibly remount, call drive.mount(\"/content/drive\", force_remount=True).\n"
          ]
        }
      ]
    },
    {
      "cell_type": "markdown",
      "metadata": {
        "id": "CqAhYoWHZAwg"
      },
      "source": [
        "**2. Move to the place where data resides**"
      ]
    },
    {
      "cell_type": "code",
      "metadata": {
        "colab": {
          "base_uri": "https://localhost:8080/"
        },
        "id": "TjgG_3CiP4eQ",
        "outputId": "4c427b62-eec1-41e9-a9ac-ce74e08dbf71"
      },
      "source": [
        "%cd /content/drive/MyDrive"
      ],
      "execution_count": 16,
      "outputs": [
        {
          "output_type": "stream",
          "name": "stdout",
          "text": [
            "/content/drive/MyDrive\n"
          ]
        }
      ]
    },
    {
      "cell_type": "code",
      "source": [
        "!ls"
      ],
      "metadata": {
        "id": "S-KhHH_xATY8",
        "colab": {
          "base_uri": "https://localhost:8080/"
        },
        "outputId": "64202830-25bd-4678-bfbf-bcee97b1a89e"
      },
      "execution_count": 10,
      "outputs": [
        {
          "output_type": "stream",
          "name": "stdout",
          "text": [
            "'accenture virtual internship.pdf'\n",
            "'Colab Notebooks'\n",
            " copy.docx\n",
            "'Copy of Copy of images.ipynb'\n",
            "'Data analytics unit test .pdf'\n",
            "'DocScanner 17-Nov-2021 5.08 pm.pdf'\n",
            "'Document from Himanshu goyal'\n",
            "'Document from Himanshu Goyal'\n",
            "'Document from Himanshu Goyal (1).pdf'\n",
            "'Document from Himanshu goyal.pdf'\n",
            "'Document from Himanshu Goyal.pdf'\n",
            "'Getting started.pdf'\n",
            "'Himanshu goyal (0827CO191024) .gdoc'\n",
            "'Himanshu Goyalproject.pdf'\n",
            " IMG-20191204-WA0002.jpg\n",
            " Invoice_16120485434-3.pdf\n",
            "'K385C98AdmitCard.pdf gate exam.pdf'\n",
            "'Lab analysis cyber security'\n",
            " petrol_consumption.csv\n",
            " photo.jpg\n",
            "'Related work -1.docx'\n",
            " Screenshot_2021-05-29-11-58-19-382_com.google.android.youtube.jpg\n",
            " Screenshot_2021-05-29-13-52-09-117_com.google.android.youtube.jpg\n",
            " TOC_Practical_assessment_format.docx\n",
            "'Toc practical.pdf'\n",
            "'unit test dbms .pdf'\n",
            "'Untitled form (1).gform'\n",
            "'Untitled form (2).gform'\n",
            "'Untitled form.gform'\n",
            "'Untitled spreadsheet (1).gsheet'\n",
            "'Untitled spreadsheet.gsheet'\n"
          ]
        }
      ]
    },
    {
      "cell_type": "markdown",
      "metadata": {
        "id": "VKvfswsOZLUB"
      },
      "source": [
        "**3. Read the dataset from CSV file**"
      ]
    },
    {
      "cell_type": "code",
      "metadata": {
        "colab": {
          "base_uri": "https://localhost:8080/",
          "height": 427
        },
        "id": "32nNonRSSaQq",
        "outputId": "c7d5c8cc-5fae-4cc2-8bb6-6d61ccb37477"
      },
      "source": [
        "import pandas as pd\n",
        "data = pd.read_csv('/content/diabetes.csv')\n",
        "data.head(10)"
      ],
      "execution_count": 23,
      "outputs": [
        {
          "output_type": "execute_result",
          "data": {
            "text/plain": [
              "   Pregnancies  Glucose  BloodPressure  SkinThickness  Insulin   BMI  \\\n",
              "0            6      148             72             35        0  33.6   \n",
              "1            1       85             66             29        0  26.6   \n",
              "2            8      183             64              0        0  23.3   \n",
              "3            1       89             66             23       94  28.1   \n",
              "4            0      137             40             35      168  43.1   \n",
              "5            5      116             74              0        0  25.6   \n",
              "6            3       78             50             32       88  31.0   \n",
              "7           10      115              0              0        0  35.3   \n",
              "8            2      197             70             45      543  30.5   \n",
              "9            8      125             96              0        0   0.0   \n",
              "\n",
              "   DiabetesPedigreeFunction  Age  Outcome  \n",
              "0                     0.627   50        1  \n",
              "1                     0.351   31        0  \n",
              "2                     0.672   32        1  \n",
              "3                     0.167   21        0  \n",
              "4                     2.288   33        1  \n",
              "5                     0.201   30        0  \n",
              "6                     0.248   26        1  \n",
              "7                     0.134   29        0  \n",
              "8                     0.158   53        1  \n",
              "9                     0.232   54        1  "
            ],
            "text/html": [
              "\n",
              "  <div id=\"df-795a8051-28b8-48cd-b887-9dd6c963b13f\">\n",
              "    <div class=\"colab-df-container\">\n",
              "      <div>\n",
              "<style scoped>\n",
              "    .dataframe tbody tr th:only-of-type {\n",
              "        vertical-align: middle;\n",
              "    }\n",
              "\n",
              "    .dataframe tbody tr th {\n",
              "        vertical-align: top;\n",
              "    }\n",
              "\n",
              "    .dataframe thead th {\n",
              "        text-align: right;\n",
              "    }\n",
              "</style>\n",
              "<table border=\"1\" class=\"dataframe\">\n",
              "  <thead>\n",
              "    <tr style=\"text-align: right;\">\n",
              "      <th></th>\n",
              "      <th>Pregnancies</th>\n",
              "      <th>Glucose</th>\n",
              "      <th>BloodPressure</th>\n",
              "      <th>SkinThickness</th>\n",
              "      <th>Insulin</th>\n",
              "      <th>BMI</th>\n",
              "      <th>DiabetesPedigreeFunction</th>\n",
              "      <th>Age</th>\n",
              "      <th>Outcome</th>\n",
              "    </tr>\n",
              "  </thead>\n",
              "  <tbody>\n",
              "    <tr>\n",
              "      <th>0</th>\n",
              "      <td>6</td>\n",
              "      <td>148</td>\n",
              "      <td>72</td>\n",
              "      <td>35</td>\n",
              "      <td>0</td>\n",
              "      <td>33.6</td>\n",
              "      <td>0.627</td>\n",
              "      <td>50</td>\n",
              "      <td>1</td>\n",
              "    </tr>\n",
              "    <tr>\n",
              "      <th>1</th>\n",
              "      <td>1</td>\n",
              "      <td>85</td>\n",
              "      <td>66</td>\n",
              "      <td>29</td>\n",
              "      <td>0</td>\n",
              "      <td>26.6</td>\n",
              "      <td>0.351</td>\n",
              "      <td>31</td>\n",
              "      <td>0</td>\n",
              "    </tr>\n",
              "    <tr>\n",
              "      <th>2</th>\n",
              "      <td>8</td>\n",
              "      <td>183</td>\n",
              "      <td>64</td>\n",
              "      <td>0</td>\n",
              "      <td>0</td>\n",
              "      <td>23.3</td>\n",
              "      <td>0.672</td>\n",
              "      <td>32</td>\n",
              "      <td>1</td>\n",
              "    </tr>\n",
              "    <tr>\n",
              "      <th>3</th>\n",
              "      <td>1</td>\n",
              "      <td>89</td>\n",
              "      <td>66</td>\n",
              "      <td>23</td>\n",
              "      <td>94</td>\n",
              "      <td>28.1</td>\n",
              "      <td>0.167</td>\n",
              "      <td>21</td>\n",
              "      <td>0</td>\n",
              "    </tr>\n",
              "    <tr>\n",
              "      <th>4</th>\n",
              "      <td>0</td>\n",
              "      <td>137</td>\n",
              "      <td>40</td>\n",
              "      <td>35</td>\n",
              "      <td>168</td>\n",
              "      <td>43.1</td>\n",
              "      <td>2.288</td>\n",
              "      <td>33</td>\n",
              "      <td>1</td>\n",
              "    </tr>\n",
              "    <tr>\n",
              "      <th>5</th>\n",
              "      <td>5</td>\n",
              "      <td>116</td>\n",
              "      <td>74</td>\n",
              "      <td>0</td>\n",
              "      <td>0</td>\n",
              "      <td>25.6</td>\n",
              "      <td>0.201</td>\n",
              "      <td>30</td>\n",
              "      <td>0</td>\n",
              "    </tr>\n",
              "    <tr>\n",
              "      <th>6</th>\n",
              "      <td>3</td>\n",
              "      <td>78</td>\n",
              "      <td>50</td>\n",
              "      <td>32</td>\n",
              "      <td>88</td>\n",
              "      <td>31.0</td>\n",
              "      <td>0.248</td>\n",
              "      <td>26</td>\n",
              "      <td>1</td>\n",
              "    </tr>\n",
              "    <tr>\n",
              "      <th>7</th>\n",
              "      <td>10</td>\n",
              "      <td>115</td>\n",
              "      <td>0</td>\n",
              "      <td>0</td>\n",
              "      <td>0</td>\n",
              "      <td>35.3</td>\n",
              "      <td>0.134</td>\n",
              "      <td>29</td>\n",
              "      <td>0</td>\n",
              "    </tr>\n",
              "    <tr>\n",
              "      <th>8</th>\n",
              "      <td>2</td>\n",
              "      <td>197</td>\n",
              "      <td>70</td>\n",
              "      <td>45</td>\n",
              "      <td>543</td>\n",
              "      <td>30.5</td>\n",
              "      <td>0.158</td>\n",
              "      <td>53</td>\n",
              "      <td>1</td>\n",
              "    </tr>\n",
              "    <tr>\n",
              "      <th>9</th>\n",
              "      <td>8</td>\n",
              "      <td>125</td>\n",
              "      <td>96</td>\n",
              "      <td>0</td>\n",
              "      <td>0</td>\n",
              "      <td>0.0</td>\n",
              "      <td>0.232</td>\n",
              "      <td>54</td>\n",
              "      <td>1</td>\n",
              "    </tr>\n",
              "  </tbody>\n",
              "</table>\n",
              "</div>\n",
              "      <button class=\"colab-df-convert\" onclick=\"convertToInteractive('df-795a8051-28b8-48cd-b887-9dd6c963b13f')\"\n",
              "              title=\"Convert this dataframe to an interactive table.\"\n",
              "              style=\"display:none;\">\n",
              "        \n",
              "  <svg xmlns=\"http://www.w3.org/2000/svg\" height=\"24px\"viewBox=\"0 0 24 24\"\n",
              "       width=\"24px\">\n",
              "    <path d=\"M0 0h24v24H0V0z\" fill=\"none\"/>\n",
              "    <path d=\"M18.56 5.44l.94 2.06.94-2.06 2.06-.94-2.06-.94-.94-2.06-.94 2.06-2.06.94zm-11 1L8.5 8.5l.94-2.06 2.06-.94-2.06-.94L8.5 2.5l-.94 2.06-2.06.94zm10 10l.94 2.06.94-2.06 2.06-.94-2.06-.94-.94-2.06-.94 2.06-2.06.94z\"/><path d=\"M17.41 7.96l-1.37-1.37c-.4-.4-.92-.59-1.43-.59-.52 0-1.04.2-1.43.59L10.3 9.45l-7.72 7.72c-.78.78-.78 2.05 0 2.83L4 21.41c.39.39.9.59 1.41.59.51 0 1.02-.2 1.41-.59l7.78-7.78 2.81-2.81c.8-.78.8-2.07 0-2.86zM5.41 20L4 18.59l7.72-7.72 1.47 1.35L5.41 20z\"/>\n",
              "  </svg>\n",
              "      </button>\n",
              "      \n",
              "  <style>\n",
              "    .colab-df-container {\n",
              "      display:flex;\n",
              "      flex-wrap:wrap;\n",
              "      gap: 12px;\n",
              "    }\n",
              "\n",
              "    .colab-df-convert {\n",
              "      background-color: #E8F0FE;\n",
              "      border: none;\n",
              "      border-radius: 50%;\n",
              "      cursor: pointer;\n",
              "      display: none;\n",
              "      fill: #1967D2;\n",
              "      height: 32px;\n",
              "      padding: 0 0 0 0;\n",
              "      width: 32px;\n",
              "    }\n",
              "\n",
              "    .colab-df-convert:hover {\n",
              "      background-color: #E2EBFA;\n",
              "      box-shadow: 0px 1px 2px rgba(60, 64, 67, 0.3), 0px 1px 3px 1px rgba(60, 64, 67, 0.15);\n",
              "      fill: #174EA6;\n",
              "    }\n",
              "\n",
              "    [theme=dark] .colab-df-convert {\n",
              "      background-color: #3B4455;\n",
              "      fill: #D2E3FC;\n",
              "    }\n",
              "\n",
              "    [theme=dark] .colab-df-convert:hover {\n",
              "      background-color: #434B5C;\n",
              "      box-shadow: 0px 1px 3px 1px rgba(0, 0, 0, 0.15);\n",
              "      filter: drop-shadow(0px 1px 2px rgba(0, 0, 0, 0.3));\n",
              "      fill: #FFFFFF;\n",
              "    }\n",
              "  </style>\n",
              "\n",
              "      <script>\n",
              "        const buttonEl =\n",
              "          document.querySelector('#df-795a8051-28b8-48cd-b887-9dd6c963b13f button.colab-df-convert');\n",
              "        buttonEl.style.display =\n",
              "          google.colab.kernel.accessAllowed ? 'block' : 'none';\n",
              "\n",
              "        async function convertToInteractive(key) {\n",
              "          const element = document.querySelector('#df-795a8051-28b8-48cd-b887-9dd6c963b13f');\n",
              "          const dataTable =\n",
              "            await google.colab.kernel.invokeFunction('convertToInteractive',\n",
              "                                                     [key], {});\n",
              "          if (!dataTable) return;\n",
              "\n",
              "          const docLinkHtml = 'Like what you see? Visit the ' +\n",
              "            '<a target=\"_blank\" href=https://colab.research.google.com/notebooks/data_table.ipynb>data table notebook</a>'\n",
              "            + ' to learn more about interactive tables.';\n",
              "          element.innerHTML = '';\n",
              "          dataTable['output_type'] = 'display_data';\n",
              "          await google.colab.output.renderOutput(dataTable, element);\n",
              "          const docLink = document.createElement('div');\n",
              "          docLink.innerHTML = docLinkHtml;\n",
              "          element.appendChild(docLink);\n",
              "        }\n",
              "      </script>\n",
              "    </div>\n",
              "  </div>\n",
              "  "
            ]
          },
          "metadata": {},
          "execution_count": 23
        }
      ]
    },
    {
      "cell_type": "code",
      "metadata": {
        "colab": {
          "base_uri": "https://localhost:8080/"
        },
        "id": "ZrslDLESShr7",
        "outputId": "46582dc4-8d81-46af-a108-7525856e47ed"
      },
      "source": [
        "data.columns"
      ],
      "execution_count": 24,
      "outputs": [
        {
          "output_type": "execute_result",
          "data": {
            "text/plain": [
              "Index(['Pregnancies', 'Glucose', 'BloodPressure', 'SkinThickness', 'Insulin',\n",
              "       'BMI', 'DiabetesPedigreeFunction', 'Age', 'Outcome'],\n",
              "      dtype='object')"
            ]
          },
          "metadata": {},
          "execution_count": 24
        }
      ]
    },
    {
      "cell_type": "code",
      "metadata": {
        "colab": {
          "base_uri": "https://localhost:8080/"
        },
        "id": "BLElehZ-Skgq",
        "outputId": "3b839c55-8d22-48b7-aa82-d8a2c6cf291d"
      },
      "source": [
        "data.values"
      ],
      "execution_count": 25,
      "outputs": [
        {
          "output_type": "execute_result",
          "data": {
            "text/plain": [
              "array([[  6.   , 148.   ,  72.   , ...,   0.627,  50.   ,   1.   ],\n",
              "       [  1.   ,  85.   ,  66.   , ...,   0.351,  31.   ,   0.   ],\n",
              "       [  8.   , 183.   ,  64.   , ...,   0.672,  32.   ,   1.   ],\n",
              "       ...,\n",
              "       [  5.   , 121.   ,  72.   , ...,   0.245,  30.   ,   0.   ],\n",
              "       [  1.   , 126.   ,  60.   , ...,   0.349,  47.   ,   1.   ],\n",
              "       [  1.   ,  93.   ,  70.   , ...,   0.315,  23.   ,   0.   ]])"
            ]
          },
          "metadata": {},
          "execution_count": 25
        }
      ]
    },
    {
      "cell_type": "markdown",
      "metadata": {
        "id": "2HnZxGc4ZQlf"
      },
      "source": [
        "**4. Store the data into input feature and label variables**"
      ]
    },
    {
      "cell_type": "code",
      "metadata": {
        "colab": {
          "base_uri": "https://localhost:8080/"
        },
        "id": "IPfA5BF0Sm4R",
        "outputId": "e8669089-e2fd-424f-a730-f08ad34ecf10"
      },
      "source": [
        "dataset= data.values\n",
        "X = dataset[:,0:8]\n",
        "Y = dataset[:,8]\n",
        "print(X)\n",
        "print(Y)"
      ],
      "execution_count": 26,
      "outputs": [
        {
          "output_type": "stream",
          "name": "stdout",
          "text": [
            "[[  6.    148.     72.    ...  33.6     0.627  50.   ]\n",
            " [  1.     85.     66.    ...  26.6     0.351  31.   ]\n",
            " [  8.    183.     64.    ...  23.3     0.672  32.   ]\n",
            " ...\n",
            " [  5.    121.     72.    ...  26.2     0.245  30.   ]\n",
            " [  1.    126.     60.    ...  30.1     0.349  47.   ]\n",
            " [  1.     93.     70.    ...  30.4     0.315  23.   ]]\n",
            "[1. 0. 1. 0. 1. 0. 1. 0. 1. 1. 0. 1. 0. 1. 1. 1. 1. 1. 0. 1. 0. 0. 1. 1.\n",
            " 1. 1. 1. 0. 0. 0. 0. 1. 0. 0. 0. 0. 0. 1. 1. 1. 0. 0. 0. 1. 0. 1. 0. 0.\n",
            " 1. 0. 0. 0. 0. 1. 0. 0. 1. 0. 0. 0. 0. 1. 0. 0. 1. 0. 1. 0. 0. 0. 1. 0.\n",
            " 1. 0. 0. 0. 0. 0. 1. 0. 0. 0. 0. 0. 1. 0. 0. 0. 1. 0. 0. 0. 0. 1. 0. 0.\n",
            " 0. 0. 0. 1. 1. 0. 0. 0. 0. 0. 0. 0. 0. 1. 1. 1. 0. 0. 1. 1. 1. 0. 0. 0.\n",
            " 1. 0. 0. 0. 1. 1. 0. 0. 1. 1. 1. 1. 1. 0. 0. 0. 0. 0. 0. 0. 0. 0. 0. 1.\n",
            " 0. 0. 0. 0. 0. 0. 0. 0. 1. 0. 1. 1. 0. 0. 0. 1. 0. 0. 0. 0. 1. 1. 0. 0.\n",
            " 0. 0. 1. 1. 0. 0. 0. 1. 0. 1. 0. 1. 0. 0. 0. 0. 0. 1. 1. 1. 1. 1. 0. 0.\n",
            " 1. 1. 0. 1. 0. 1. 1. 1. 0. 0. 0. 0. 0. 0. 1. 1. 0. 1. 0. 0. 0. 1. 1. 1.\n",
            " 1. 0. 1. 1. 1. 1. 0. 0. 0. 0. 0. 1. 0. 0. 1. 1. 0. 0. 0. 1. 1. 1. 1. 0.\n",
            " 0. 0. 1. 1. 0. 1. 0. 0. 0. 0. 0. 0. 0. 0. 1. 1. 0. 0. 0. 1. 0. 1. 0. 0.\n",
            " 1. 0. 1. 0. 0. 1. 1. 0. 0. 0. 0. 0. 1. 0. 0. 0. 1. 0. 0. 1. 1. 0. 0. 1.\n",
            " 0. 0. 0. 1. 1. 1. 0. 0. 1. 0. 1. 0. 1. 1. 0. 1. 0. 0. 1. 0. 1. 1. 0. 0.\n",
            " 1. 0. 1. 0. 0. 1. 0. 1. 0. 1. 1. 1. 0. 0. 1. 0. 1. 0. 0. 0. 1. 0. 0. 0.\n",
            " 0. 1. 1. 1. 0. 0. 0. 0. 0. 0. 0. 0. 0. 1. 0. 0. 0. 0. 0. 1. 1. 1. 0. 1.\n",
            " 1. 0. 0. 1. 0. 0. 1. 0. 0. 1. 1. 0. 0. 0. 0. 1. 0. 0. 1. 0. 0. 0. 0. 0.\n",
            " 0. 0. 1. 1. 1. 0. 0. 1. 0. 0. 1. 0. 0. 1. 0. 1. 1. 0. 1. 0. 1. 0. 1. 0.\n",
            " 1. 1. 0. 0. 0. 0. 1. 1. 0. 1. 0. 1. 0. 0. 0. 0. 1. 1. 0. 1. 0. 1. 0. 0.\n",
            " 0. 0. 0. 1. 0. 0. 0. 0. 1. 0. 0. 1. 1. 1. 0. 0. 1. 0. 0. 1. 0. 0. 0. 1.\n",
            " 0. 0. 1. 0. 0. 0. 0. 0. 0. 0. 0. 0. 1. 0. 0. 0. 0. 0. 0. 0. 1. 0. 0. 0.\n",
            " 1. 0. 0. 0. 1. 1. 0. 0. 0. 0. 0. 0. 0. 1. 0. 0. 0. 0. 1. 0. 0. 0. 1. 0.\n",
            " 0. 0. 1. 0. 0. 0. 1. 0. 0. 0. 0. 1. 1. 0. 0. 0. 0. 0. 0. 1. 0. 0. 0. 0.\n",
            " 0. 0. 0. 0. 0. 0. 0. 1. 0. 0. 0. 1. 1. 1. 1. 0. 0. 1. 1. 0. 0. 0. 0. 0.\n",
            " 0. 0. 0. 0. 0. 0. 0. 0. 1. 1. 0. 0. 0. 0. 0. 0. 0. 1. 0. 0. 0. 0. 0. 0.\n",
            " 0. 1. 0. 1. 1. 0. 0. 0. 1. 0. 1. 0. 1. 0. 1. 0. 1. 0. 0. 1. 0. 0. 1. 0.\n",
            " 0. 0. 0. 1. 1. 0. 1. 0. 0. 0. 0. 1. 1. 0. 1. 0. 0. 0. 1. 1. 0. 0. 0. 0.\n",
            " 0. 0. 0. 0. 0. 0. 1. 0. 0. 0. 0. 1. 0. 0. 1. 0. 0. 0. 1. 0. 0. 0. 1. 1.\n",
            " 1. 0. 0. 0. 0. 0. 0. 1. 0. 0. 0. 1. 0. 1. 1. 1. 1. 0. 1. 1. 0. 0. 0. 0.\n",
            " 0. 0. 0. 1. 1. 0. 1. 0. 0. 1. 0. 1. 0. 0. 0. 0. 0. 1. 0. 1. 0. 1. 0. 1.\n",
            " 1. 0. 0. 0. 0. 1. 1. 0. 0. 0. 1. 0. 1. 1. 0. 0. 1. 0. 0. 1. 1. 0. 0. 1.\n",
            " 0. 0. 1. 0. 0. 0. 0. 0. 0. 0. 1. 1. 1. 0. 0. 0. 0. 0. 0. 1. 1. 0. 0. 1.\n",
            " 0. 0. 1. 0. 1. 1. 1. 0. 0. 1. 1. 1. 0. 1. 0. 1. 0. 1. 0. 0. 0. 0. 1. 0.]\n"
          ]
        }
      ]
    },
    {
      "cell_type": "markdown",
      "metadata": {
        "id": "OdPZerNUZV4Q"
      },
      "source": [
        "**5. Data Normalization**"
      ]
    },
    {
      "cell_type": "code",
      "metadata": {
        "colab": {
          "base_uri": "https://localhost:8080/"
        },
        "id": "pM4g3T1fWri-",
        "outputId": "d2be1abc-29ed-4b34-afa4-4496c8c684b9"
      },
      "source": [
        "from sklearn import preprocessing\n",
        "min_max_scaler = preprocessing.MinMaxScaler()\n",
        "X_scale = min_max_scaler.fit_transform(X)\n",
        "X_scale"
      ],
      "execution_count": 27,
      "outputs": [
        {
          "output_type": "execute_result",
          "data": {
            "text/plain": [
              "array([[0.35294118, 0.74371859, 0.59016393, ..., 0.50074516, 0.23441503,\n",
              "        0.48333333],\n",
              "       [0.05882353, 0.42713568, 0.54098361, ..., 0.39642325, 0.11656704,\n",
              "        0.16666667],\n",
              "       [0.47058824, 0.91959799, 0.52459016, ..., 0.34724292, 0.25362938,\n",
              "        0.18333333],\n",
              "       ...,\n",
              "       [0.29411765, 0.6080402 , 0.59016393, ..., 0.390462  , 0.07130658,\n",
              "        0.15      ],\n",
              "       [0.05882353, 0.63316583, 0.49180328, ..., 0.4485842 , 0.11571307,\n",
              "        0.43333333],\n",
              "       [0.05882353, 0.46733668, 0.57377049, ..., 0.45305514, 0.10119556,\n",
              "        0.03333333]])"
            ]
          },
          "metadata": {},
          "execution_count": 27
        }
      ]
    },
    {
      "cell_type": "markdown",
      "metadata": {
        "id": "n1B5x8C0ZY-e"
      },
      "source": [
        "**6. One-hot vector conversion**"
      ]
    },
    {
      "cell_type": "code",
      "metadata": {
        "colab": {
          "base_uri": "https://localhost:8080/"
        },
        "id": "IWPUAnA-XNd8",
        "outputId": "a2773802-e8d5-40fa-a24a-c83effacaafc"
      },
      "source": [
        "from keras.utils import np_utils\n",
        "encoded_y = np_utils.to_categorical(Y)\n",
        "encoded_y"
      ],
      "execution_count": 28,
      "outputs": [
        {
          "output_type": "execute_result",
          "data": {
            "text/plain": [
              "array([[0., 1.],\n",
              "       [1., 0.],\n",
              "       [0., 1.],\n",
              "       ...,\n",
              "       [1., 0.],\n",
              "       [0., 1.],\n",
              "       [1., 0.]], dtype=float32)"
            ]
          },
          "metadata": {},
          "execution_count": 28
        }
      ]
    },
    {
      "cell_type": "markdown",
      "metadata": {
        "id": "IeJWmMxjZbgo"
      },
      "source": [
        "**7. Split the dataset into training, testing and validation set**"
      ]
    },
    {
      "cell_type": "code",
      "metadata": {
        "colab": {
          "base_uri": "https://localhost:8080/"
        },
        "id": "3BqXnV1FXYIV",
        "outputId": "94c73f1e-870e-4a3e-bb73-bd2ac8814189"
      },
      "source": [
        "from sklearn.model_selection import train_test_split\n",
        "X_training, X_testing, Y_training, Y_testing = train_test_split(X_scale, encoded_y, test_size=0.2, random_state=10)\n",
        "X_training, X_valid, Y_training, Y_valid = train_test_split(X_training, Y_training, test_size=0.25, random_state=10)\n",
        "print(len(X_training))\n",
        "print(len(X_testing))\n",
        "print(len(X_valid))"
      ],
      "execution_count": 29,
      "outputs": [
        {
          "output_type": "stream",
          "name": "stdout",
          "text": [
            "460\n",
            "154\n",
            "154\n"
          ]
        }
      ]
    },
    {
      "cell_type": "markdown",
      "metadata": {
        "id": "EH9IZizVZfKB"
      },
      "source": [
        "**8. Model Creation**"
      ]
    },
    {
      "cell_type": "code",
      "metadata": {
        "colab": {
          "base_uri": "https://localhost:8080/"
        },
        "id": "hNfmvbMOXeku",
        "outputId": "69593e70-cb3b-4cf4-8697-8e5cbccf739a"
      },
      "source": [
        "from keras.models import Sequential\n",
        "from keras.layers import Dense\n",
        "\n",
        "# Creating the model\n",
        "model = Sequential()\n",
        "model.add(Dense(12, input_shape=(8,), activation='tanh'))\n",
        "model.add(Dense(8, activation='tanh'))\n",
        "model.add(Dense(2, activation='softmax'))\n",
        "model.summary()   #gives a summary of the model"
      ],
      "execution_count": 30,
      "outputs": [
        {
          "output_type": "stream",
          "name": "stdout",
          "text": [
            "Model: \"sequential\"\n",
            "_________________________________________________________________\n",
            " Layer (type)                Output Shape              Param #   \n",
            "=================================================================\n",
            " dense (Dense)               (None, 12)                108       \n",
            "                                                                 \n",
            " dense_1 (Dense)             (None, 8)                 104       \n",
            "                                                                 \n",
            " dense_2 (Dense)             (None, 2)                 18        \n",
            "                                                                 \n",
            "=================================================================\n",
            "Total params: 230\n",
            "Trainable params: 230\n",
            "Non-trainable params: 0\n",
            "_________________________________________________________________\n"
          ]
        }
      ]
    },
    {
      "cell_type": "markdown",
      "metadata": {
        "id": "iYxZHI_EZiEF"
      },
      "source": [
        "**9. Model Compile**"
      ]
    },
    {
      "cell_type": "code",
      "metadata": {
        "id": "plF2qlxwXiIY"
      },
      "source": [
        "from tensorflow.keras import optimizers\n",
        "opt=optimizers.Adam(learning_rate=0.0001)\n",
        "model.compile(loss='categorical_crossentropy', optimizer=opt, metrics=['accuracy'])"
      ],
      "execution_count": 31,
      "outputs": []
    },
    {
      "cell_type": "markdown",
      "metadata": {
        "id": "E8VrUFVQZkNd"
      },
      "source": [
        "**10. Model Training**"
      ]
    },
    {
      "cell_type": "markdown",
      "source": [
        "if you have 1000 training examples, and your batch size is  500, then it will take 2 iterations to complete 1 epoch."
      ],
      "metadata": {
        "id": "08Ul5lN90_Sp"
      }
    },
    {
      "cell_type": "code",
      "metadata": {
        "colab": {
          "base_uri": "https://localhost:8080/"
        },
        "id": "xhDZ8yPhXrs0",
        "outputId": "beaf98d8-2f6c-4112-fc1f-ace8abce9da3"
      },
      "source": [
        "hist = model.fit(X_training, Y_training,batch_size=16,  epochs=200, validation_data=(X_valid,Y_valid))"
      ],
      "execution_count": 35,
      "outputs": [
        {
          "output_type": "stream",
          "name": "stdout",
          "text": [
            "Epoch 1/200\n",
            "29/29 [==============================] - 0s 6ms/step - loss: 0.5965 - accuracy: 0.6761 - val_loss: 0.6447 - val_accuracy: 0.6104\n",
            "Epoch 2/200\n",
            "29/29 [==============================] - 0s 4ms/step - loss: 0.5948 - accuracy: 0.6761 - val_loss: 0.6434 - val_accuracy: 0.6104\n",
            "Epoch 3/200\n",
            "29/29 [==============================] - 0s 5ms/step - loss: 0.5935 - accuracy: 0.6761 - val_loss: 0.6439 - val_accuracy: 0.6104\n",
            "Epoch 4/200\n",
            "29/29 [==============================] - 0s 5ms/step - loss: 0.5920 - accuracy: 0.6761 - val_loss: 0.6423 - val_accuracy: 0.6104\n",
            "Epoch 5/200\n",
            "29/29 [==============================] - 0s 4ms/step - loss: 0.5906 - accuracy: 0.6761 - val_loss: 0.6408 - val_accuracy: 0.6104\n",
            "Epoch 6/200\n",
            "29/29 [==============================] - 0s 4ms/step - loss: 0.5899 - accuracy: 0.6761 - val_loss: 0.6389 - val_accuracy: 0.6104\n",
            "Epoch 7/200\n",
            "29/29 [==============================] - 0s 4ms/step - loss: 0.5882 - accuracy: 0.6761 - val_loss: 0.6393 - val_accuracy: 0.6104\n",
            "Epoch 8/200\n",
            "29/29 [==============================] - 0s 4ms/step - loss: 0.5872 - accuracy: 0.6761 - val_loss: 0.6388 - val_accuracy: 0.6104\n",
            "Epoch 9/200\n",
            "29/29 [==============================] - 0s 3ms/step - loss: 0.5860 - accuracy: 0.6761 - val_loss: 0.6363 - val_accuracy: 0.6104\n",
            "Epoch 10/200\n",
            "29/29 [==============================] - 0s 3ms/step - loss: 0.5847 - accuracy: 0.6761 - val_loss: 0.6361 - val_accuracy: 0.6104\n",
            "Epoch 11/200\n",
            "29/29 [==============================] - 0s 2ms/step - loss: 0.5836 - accuracy: 0.6761 - val_loss: 0.6352 - val_accuracy: 0.6104\n",
            "Epoch 12/200\n",
            "29/29 [==============================] - 0s 3ms/step - loss: 0.5827 - accuracy: 0.6739 - val_loss: 0.6344 - val_accuracy: 0.6104\n",
            "Epoch 13/200\n",
            "29/29 [==============================] - 0s 2ms/step - loss: 0.5815 - accuracy: 0.6739 - val_loss: 0.6334 - val_accuracy: 0.6104\n",
            "Epoch 14/200\n",
            "29/29 [==============================] - 0s 3ms/step - loss: 0.5805 - accuracy: 0.6739 - val_loss: 0.6320 - val_accuracy: 0.6104\n",
            "Epoch 15/200\n",
            "29/29 [==============================] - 0s 2ms/step - loss: 0.5797 - accuracy: 0.6739 - val_loss: 0.6318 - val_accuracy: 0.6104\n",
            "Epoch 16/200\n",
            "29/29 [==============================] - 0s 2ms/step - loss: 0.5786 - accuracy: 0.6739 - val_loss: 0.6302 - val_accuracy: 0.6104\n",
            "Epoch 17/200\n",
            "29/29 [==============================] - 0s 3ms/step - loss: 0.5774 - accuracy: 0.6739 - val_loss: 0.6298 - val_accuracy: 0.6104\n",
            "Epoch 18/200\n",
            "29/29 [==============================] - 0s 3ms/step - loss: 0.5765 - accuracy: 0.6739 - val_loss: 0.6289 - val_accuracy: 0.6104\n",
            "Epoch 19/200\n",
            "29/29 [==============================] - 0s 3ms/step - loss: 0.5756 - accuracy: 0.6739 - val_loss: 0.6286 - val_accuracy: 0.6104\n",
            "Epoch 20/200\n",
            "29/29 [==============================] - 0s 3ms/step - loss: 0.5744 - accuracy: 0.6739 - val_loss: 0.6272 - val_accuracy: 0.6104\n",
            "Epoch 21/200\n",
            "29/29 [==============================] - 0s 3ms/step - loss: 0.5735 - accuracy: 0.6739 - val_loss: 0.6268 - val_accuracy: 0.6104\n",
            "Epoch 22/200\n",
            "29/29 [==============================] - 0s 2ms/step - loss: 0.5725 - accuracy: 0.6739 - val_loss: 0.6259 - val_accuracy: 0.6104\n",
            "Epoch 23/200\n",
            "29/29 [==============================] - 0s 2ms/step - loss: 0.5716 - accuracy: 0.6761 - val_loss: 0.6251 - val_accuracy: 0.6104\n",
            "Epoch 24/200\n",
            "29/29 [==============================] - 0s 2ms/step - loss: 0.5706 - accuracy: 0.6783 - val_loss: 0.6242 - val_accuracy: 0.6104\n",
            "Epoch 25/200\n",
            "29/29 [==============================] - 0s 3ms/step - loss: 0.5700 - accuracy: 0.6783 - val_loss: 0.6240 - val_accuracy: 0.6104\n",
            "Epoch 26/200\n",
            "29/29 [==============================] - 0s 2ms/step - loss: 0.5689 - accuracy: 0.6804 - val_loss: 0.6223 - val_accuracy: 0.6104\n",
            "Epoch 27/200\n",
            "29/29 [==============================] - 0s 3ms/step - loss: 0.5678 - accuracy: 0.6804 - val_loss: 0.6220 - val_accuracy: 0.6104\n",
            "Epoch 28/200\n",
            "29/29 [==============================] - 0s 3ms/step - loss: 0.5670 - accuracy: 0.6826 - val_loss: 0.6213 - val_accuracy: 0.6104\n",
            "Epoch 29/200\n",
            "29/29 [==============================] - 0s 3ms/step - loss: 0.5660 - accuracy: 0.6848 - val_loss: 0.6208 - val_accuracy: 0.6104\n",
            "Epoch 30/200\n",
            "29/29 [==============================] - 0s 3ms/step - loss: 0.5652 - accuracy: 0.6848 - val_loss: 0.6199 - val_accuracy: 0.6234\n",
            "Epoch 31/200\n",
            "29/29 [==============================] - 0s 3ms/step - loss: 0.5643 - accuracy: 0.6783 - val_loss: 0.6190 - val_accuracy: 0.6299\n",
            "Epoch 32/200\n",
            "29/29 [==============================] - 0s 2ms/step - loss: 0.5634 - accuracy: 0.6783 - val_loss: 0.6188 - val_accuracy: 0.6299\n",
            "Epoch 33/200\n",
            "29/29 [==============================] - 0s 3ms/step - loss: 0.5626 - accuracy: 0.6761 - val_loss: 0.6176 - val_accuracy: 0.6299\n",
            "Epoch 34/200\n",
            "29/29 [==============================] - 0s 3ms/step - loss: 0.5617 - accuracy: 0.6761 - val_loss: 0.6172 - val_accuracy: 0.6234\n",
            "Epoch 35/200\n",
            "29/29 [==============================] - 0s 3ms/step - loss: 0.5608 - accuracy: 0.6761 - val_loss: 0.6162 - val_accuracy: 0.6299\n",
            "Epoch 36/200\n",
            "29/29 [==============================] - 0s 3ms/step - loss: 0.5599 - accuracy: 0.6783 - val_loss: 0.6158 - val_accuracy: 0.6299\n",
            "Epoch 37/200\n",
            "29/29 [==============================] - 0s 3ms/step - loss: 0.5591 - accuracy: 0.6804 - val_loss: 0.6146 - val_accuracy: 0.6234\n",
            "Epoch 38/200\n",
            "29/29 [==============================] - 0s 3ms/step - loss: 0.5583 - accuracy: 0.6804 - val_loss: 0.6139 - val_accuracy: 0.6299\n",
            "Epoch 39/200\n",
            "29/29 [==============================] - 0s 3ms/step - loss: 0.5574 - accuracy: 0.6783 - val_loss: 0.6139 - val_accuracy: 0.6299\n",
            "Epoch 40/200\n",
            "29/29 [==============================] - 0s 3ms/step - loss: 0.5567 - accuracy: 0.6804 - val_loss: 0.6137 - val_accuracy: 0.6299\n",
            "Epoch 41/200\n",
            "29/29 [==============================] - 0s 3ms/step - loss: 0.5559 - accuracy: 0.6761 - val_loss: 0.6121 - val_accuracy: 0.6494\n",
            "Epoch 42/200\n",
            "29/29 [==============================] - 0s 3ms/step - loss: 0.5550 - accuracy: 0.6783 - val_loss: 0.6116 - val_accuracy: 0.6494\n",
            "Epoch 43/200\n",
            "29/29 [==============================] - 0s 3ms/step - loss: 0.5541 - accuracy: 0.6783 - val_loss: 0.6111 - val_accuracy: 0.6494\n",
            "Epoch 44/200\n",
            "29/29 [==============================] - 0s 3ms/step - loss: 0.5533 - accuracy: 0.6804 - val_loss: 0.6102 - val_accuracy: 0.6558\n",
            "Epoch 45/200\n",
            "29/29 [==============================] - 0s 3ms/step - loss: 0.5526 - accuracy: 0.6826 - val_loss: 0.6100 - val_accuracy: 0.6558\n",
            "Epoch 46/200\n",
            "29/29 [==============================] - 0s 2ms/step - loss: 0.5517 - accuracy: 0.6848 - val_loss: 0.6086 - val_accuracy: 0.6558\n",
            "Epoch 47/200\n",
            "29/29 [==============================] - 0s 3ms/step - loss: 0.5509 - accuracy: 0.6891 - val_loss: 0.6082 - val_accuracy: 0.6623\n",
            "Epoch 48/200\n",
            "29/29 [==============================] - 0s 2ms/step - loss: 0.5501 - accuracy: 0.6913 - val_loss: 0.6076 - val_accuracy: 0.6623\n",
            "Epoch 49/200\n",
            "29/29 [==============================] - 0s 3ms/step - loss: 0.5494 - accuracy: 0.6913 - val_loss: 0.6075 - val_accuracy: 0.6623\n",
            "Epoch 50/200\n",
            "29/29 [==============================] - 0s 2ms/step - loss: 0.5487 - accuracy: 0.6935 - val_loss: 0.6061 - val_accuracy: 0.6558\n",
            "Epoch 51/200\n",
            "29/29 [==============================] - 0s 3ms/step - loss: 0.5480 - accuracy: 0.6935 - val_loss: 0.6058 - val_accuracy: 0.6558\n",
            "Epoch 52/200\n",
            "29/29 [==============================] - 0s 3ms/step - loss: 0.5471 - accuracy: 0.6913 - val_loss: 0.6050 - val_accuracy: 0.6558\n",
            "Epoch 53/200\n",
            "29/29 [==============================] - 0s 3ms/step - loss: 0.5465 - accuracy: 0.6891 - val_loss: 0.6047 - val_accuracy: 0.6558\n",
            "Epoch 54/200\n",
            "29/29 [==============================] - 0s 3ms/step - loss: 0.5457 - accuracy: 0.6891 - val_loss: 0.6040 - val_accuracy: 0.6623\n",
            "Epoch 55/200\n",
            "29/29 [==============================] - 0s 3ms/step - loss: 0.5449 - accuracy: 0.6913 - val_loss: 0.6033 - val_accuracy: 0.6688\n",
            "Epoch 56/200\n",
            "29/29 [==============================] - 0s 5ms/step - loss: 0.5443 - accuracy: 0.6913 - val_loss: 0.6034 - val_accuracy: 0.6623\n",
            "Epoch 57/200\n",
            "29/29 [==============================] - 0s 3ms/step - loss: 0.5435 - accuracy: 0.6935 - val_loss: 0.6024 - val_accuracy: 0.6688\n",
            "Epoch 58/200\n",
            "29/29 [==============================] - 0s 2ms/step - loss: 0.5428 - accuracy: 0.6978 - val_loss: 0.6014 - val_accuracy: 0.6688\n",
            "Epoch 59/200\n",
            "29/29 [==============================] - 0s 3ms/step - loss: 0.5422 - accuracy: 0.7000 - val_loss: 0.6014 - val_accuracy: 0.6688\n",
            "Epoch 60/200\n",
            "29/29 [==============================] - 0s 3ms/step - loss: 0.5416 - accuracy: 0.7022 - val_loss: 0.6001 - val_accuracy: 0.6688\n",
            "Epoch 61/200\n",
            "29/29 [==============================] - 0s 3ms/step - loss: 0.5406 - accuracy: 0.7000 - val_loss: 0.6002 - val_accuracy: 0.6688\n",
            "Epoch 62/200\n",
            "29/29 [==============================] - 0s 3ms/step - loss: 0.5400 - accuracy: 0.7000 - val_loss: 0.5997 - val_accuracy: 0.6688\n",
            "Epoch 63/200\n",
            "29/29 [==============================] - 0s 3ms/step - loss: 0.5394 - accuracy: 0.7000 - val_loss: 0.5996 - val_accuracy: 0.6688\n",
            "Epoch 64/200\n",
            "29/29 [==============================] - 0s 3ms/step - loss: 0.5388 - accuracy: 0.7000 - val_loss: 0.5994 - val_accuracy: 0.6688\n",
            "Epoch 65/200\n",
            "29/29 [==============================] - 0s 3ms/step - loss: 0.5380 - accuracy: 0.7087 - val_loss: 0.5980 - val_accuracy: 0.6623\n",
            "Epoch 66/200\n",
            "29/29 [==============================] - 0s 3ms/step - loss: 0.5374 - accuracy: 0.7087 - val_loss: 0.5975 - val_accuracy: 0.6623\n",
            "Epoch 67/200\n",
            "29/29 [==============================] - 0s 3ms/step - loss: 0.5367 - accuracy: 0.7109 - val_loss: 0.5969 - val_accuracy: 0.6623\n",
            "Epoch 68/200\n",
            "29/29 [==============================] - 0s 2ms/step - loss: 0.5365 - accuracy: 0.7087 - val_loss: 0.5972 - val_accuracy: 0.6623\n",
            "Epoch 69/200\n",
            "29/29 [==============================] - 0s 3ms/step - loss: 0.5356 - accuracy: 0.7109 - val_loss: 0.5962 - val_accuracy: 0.6623\n",
            "Epoch 70/200\n",
            "29/29 [==============================] - 0s 3ms/step - loss: 0.5351 - accuracy: 0.7217 - val_loss: 0.5945 - val_accuracy: 0.6688\n",
            "Epoch 71/200\n",
            "29/29 [==============================] - 0s 3ms/step - loss: 0.5343 - accuracy: 0.7217 - val_loss: 0.5950 - val_accuracy: 0.6623\n",
            "Epoch 72/200\n",
            "29/29 [==============================] - 0s 2ms/step - loss: 0.5336 - accuracy: 0.7217 - val_loss: 0.5947 - val_accuracy: 0.6688\n",
            "Epoch 73/200\n",
            "29/29 [==============================] - 0s 3ms/step - loss: 0.5333 - accuracy: 0.7304 - val_loss: 0.5934 - val_accuracy: 0.6688\n",
            "Epoch 74/200\n",
            "29/29 [==============================] - 0s 2ms/step - loss: 0.5325 - accuracy: 0.7239 - val_loss: 0.5933 - val_accuracy: 0.6688\n",
            "Epoch 75/200\n",
            "29/29 [==============================] - 0s 3ms/step - loss: 0.5318 - accuracy: 0.7261 - val_loss: 0.5931 - val_accuracy: 0.6688\n",
            "Epoch 76/200\n",
            "29/29 [==============================] - 0s 3ms/step - loss: 0.5314 - accuracy: 0.7283 - val_loss: 0.5928 - val_accuracy: 0.6688\n",
            "Epoch 77/200\n",
            "29/29 [==============================] - 0s 3ms/step - loss: 0.5313 - accuracy: 0.7217 - val_loss: 0.5936 - val_accuracy: 0.6688\n",
            "Epoch 78/200\n",
            "29/29 [==============================] - 0s 3ms/step - loss: 0.5304 - accuracy: 0.7261 - val_loss: 0.5914 - val_accuracy: 0.6818\n",
            "Epoch 79/200\n",
            "29/29 [==============================] - 0s 3ms/step - loss: 0.5296 - accuracy: 0.7261 - val_loss: 0.5915 - val_accuracy: 0.6818\n",
            "Epoch 80/200\n",
            "29/29 [==============================] - 0s 3ms/step - loss: 0.5291 - accuracy: 0.7261 - val_loss: 0.5910 - val_accuracy: 0.6818\n",
            "Epoch 81/200\n",
            "29/29 [==============================] - 0s 3ms/step - loss: 0.5288 - accuracy: 0.7217 - val_loss: 0.5897 - val_accuracy: 0.6818\n",
            "Epoch 82/200\n",
            "29/29 [==============================] - 0s 2ms/step - loss: 0.5281 - accuracy: 0.7239 - val_loss: 0.5896 - val_accuracy: 0.6818\n",
            "Epoch 83/200\n",
            "29/29 [==============================] - 0s 3ms/step - loss: 0.5275 - accuracy: 0.7217 - val_loss: 0.5898 - val_accuracy: 0.6818\n",
            "Epoch 84/200\n",
            "29/29 [==============================] - 0s 3ms/step - loss: 0.5270 - accuracy: 0.7217 - val_loss: 0.5895 - val_accuracy: 0.6818\n",
            "Epoch 85/200\n",
            "29/29 [==============================] - 0s 3ms/step - loss: 0.5265 - accuracy: 0.7239 - val_loss: 0.5889 - val_accuracy: 0.6883\n",
            "Epoch 86/200\n",
            "29/29 [==============================] - 0s 3ms/step - loss: 0.5260 - accuracy: 0.7196 - val_loss: 0.5885 - val_accuracy: 0.6883\n",
            "Epoch 87/200\n",
            "29/29 [==============================] - 0s 3ms/step - loss: 0.5255 - accuracy: 0.7196 - val_loss: 0.5882 - val_accuracy: 0.6883\n",
            "Epoch 88/200\n",
            "29/29 [==============================] - 0s 3ms/step - loss: 0.5251 - accuracy: 0.7196 - val_loss: 0.5878 - val_accuracy: 0.6883\n",
            "Epoch 89/200\n",
            "29/29 [==============================] - 0s 3ms/step - loss: 0.5246 - accuracy: 0.7239 - val_loss: 0.5868 - val_accuracy: 0.6883\n",
            "Epoch 90/200\n",
            "29/29 [==============================] - 0s 3ms/step - loss: 0.5241 - accuracy: 0.7239 - val_loss: 0.5870 - val_accuracy: 0.6883\n",
            "Epoch 91/200\n",
            "29/29 [==============================] - 0s 3ms/step - loss: 0.5235 - accuracy: 0.7261 - val_loss: 0.5863 - val_accuracy: 0.6883\n",
            "Epoch 92/200\n",
            "29/29 [==============================] - 0s 3ms/step - loss: 0.5231 - accuracy: 0.7283 - val_loss: 0.5858 - val_accuracy: 0.6883\n",
            "Epoch 93/200\n",
            "29/29 [==============================] - 0s 2ms/step - loss: 0.5225 - accuracy: 0.7283 - val_loss: 0.5857 - val_accuracy: 0.6883\n",
            "Epoch 94/200\n",
            "29/29 [==============================] - 0s 3ms/step - loss: 0.5221 - accuracy: 0.7283 - val_loss: 0.5855 - val_accuracy: 0.6883\n",
            "Epoch 95/200\n",
            "29/29 [==============================] - 0s 3ms/step - loss: 0.5216 - accuracy: 0.7326 - val_loss: 0.5849 - val_accuracy: 0.6818\n",
            "Epoch 96/200\n",
            "29/29 [==============================] - 0s 3ms/step - loss: 0.5217 - accuracy: 0.7326 - val_loss: 0.5857 - val_accuracy: 0.6883\n",
            "Epoch 97/200\n",
            "29/29 [==============================] - 0s 3ms/step - loss: 0.5210 - accuracy: 0.7304 - val_loss: 0.5835 - val_accuracy: 0.7013\n",
            "Epoch 98/200\n",
            "29/29 [==============================] - 0s 3ms/step - loss: 0.5203 - accuracy: 0.7304 - val_loss: 0.5837 - val_accuracy: 0.7013\n",
            "Epoch 99/200\n",
            "29/29 [==============================] - 0s 3ms/step - loss: 0.5198 - accuracy: 0.7326 - val_loss: 0.5835 - val_accuracy: 0.7013\n",
            "Epoch 100/200\n",
            "29/29 [==============================] - 0s 3ms/step - loss: 0.5194 - accuracy: 0.7304 - val_loss: 0.5832 - val_accuracy: 0.7013\n",
            "Epoch 101/200\n",
            "29/29 [==============================] - 0s 2ms/step - loss: 0.5192 - accuracy: 0.7283 - val_loss: 0.5826 - val_accuracy: 0.7078\n",
            "Epoch 102/200\n",
            "29/29 [==============================] - 0s 2ms/step - loss: 0.5186 - accuracy: 0.7304 - val_loss: 0.5829 - val_accuracy: 0.7013\n",
            "Epoch 103/200\n",
            "29/29 [==============================] - 0s 3ms/step - loss: 0.5182 - accuracy: 0.7348 - val_loss: 0.5823 - val_accuracy: 0.7078\n",
            "Epoch 104/200\n",
            "29/29 [==============================] - 0s 3ms/step - loss: 0.5177 - accuracy: 0.7348 - val_loss: 0.5822 - val_accuracy: 0.7078\n",
            "Epoch 105/200\n",
            "29/29 [==============================] - 0s 2ms/step - loss: 0.5173 - accuracy: 0.7370 - val_loss: 0.5814 - val_accuracy: 0.6948\n",
            "Epoch 106/200\n",
            "29/29 [==============================] - 0s 3ms/step - loss: 0.5171 - accuracy: 0.7391 - val_loss: 0.5816 - val_accuracy: 0.7013\n",
            "Epoch 107/200\n",
            "29/29 [==============================] - 0s 2ms/step - loss: 0.5166 - accuracy: 0.7413 - val_loss: 0.5803 - val_accuracy: 0.6948\n",
            "Epoch 108/200\n",
            "29/29 [==============================] - 0s 3ms/step - loss: 0.5160 - accuracy: 0.7435 - val_loss: 0.5805 - val_accuracy: 0.6948\n",
            "Epoch 109/200\n",
            "29/29 [==============================] - 0s 3ms/step - loss: 0.5158 - accuracy: 0.7391 - val_loss: 0.5800 - val_accuracy: 0.6948\n",
            "Epoch 110/200\n",
            "29/29 [==============================] - 0s 3ms/step - loss: 0.5154 - accuracy: 0.7457 - val_loss: 0.5795 - val_accuracy: 0.6883\n",
            "Epoch 111/200\n",
            "29/29 [==============================] - 0s 2ms/step - loss: 0.5149 - accuracy: 0.7435 - val_loss: 0.5796 - val_accuracy: 0.6948\n",
            "Epoch 112/200\n",
            "29/29 [==============================] - 0s 3ms/step - loss: 0.5145 - accuracy: 0.7435 - val_loss: 0.5795 - val_accuracy: 0.6948\n",
            "Epoch 113/200\n",
            "29/29 [==============================] - 0s 3ms/step - loss: 0.5142 - accuracy: 0.7457 - val_loss: 0.5791 - val_accuracy: 0.6883\n",
            "Epoch 114/200\n",
            "29/29 [==============================] - 0s 2ms/step - loss: 0.5138 - accuracy: 0.7457 - val_loss: 0.5788 - val_accuracy: 0.6883\n",
            "Epoch 115/200\n",
            "29/29 [==============================] - 0s 4ms/step - loss: 0.5135 - accuracy: 0.7478 - val_loss: 0.5783 - val_accuracy: 0.6948\n",
            "Epoch 116/200\n",
            "29/29 [==============================] - 0s 3ms/step - loss: 0.5131 - accuracy: 0.7478 - val_loss: 0.5782 - val_accuracy: 0.6948\n",
            "Epoch 117/200\n",
            "29/29 [==============================] - 0s 3ms/step - loss: 0.5128 - accuracy: 0.7478 - val_loss: 0.5780 - val_accuracy: 0.7013\n",
            "Epoch 118/200\n",
            "29/29 [==============================] - 0s 3ms/step - loss: 0.5126 - accuracy: 0.7457 - val_loss: 0.5768 - val_accuracy: 0.7078\n",
            "Epoch 119/200\n",
            "29/29 [==============================] - 0s 2ms/step - loss: 0.5122 - accuracy: 0.7457 - val_loss: 0.5774 - val_accuracy: 0.7013\n",
            "Epoch 120/200\n",
            "29/29 [==============================] - 0s 3ms/step - loss: 0.5117 - accuracy: 0.7478 - val_loss: 0.5770 - val_accuracy: 0.7078\n",
            "Epoch 121/200\n",
            "29/29 [==============================] - 0s 3ms/step - loss: 0.5116 - accuracy: 0.7457 - val_loss: 0.5759 - val_accuracy: 0.7013\n",
            "Epoch 122/200\n",
            "29/29 [==============================] - 0s 2ms/step - loss: 0.5110 - accuracy: 0.7457 - val_loss: 0.5764 - val_accuracy: 0.7078\n",
            "Epoch 123/200\n",
            "29/29 [==============================] - 0s 3ms/step - loss: 0.5110 - accuracy: 0.7500 - val_loss: 0.5764 - val_accuracy: 0.7013\n",
            "Epoch 124/200\n",
            "29/29 [==============================] - 0s 2ms/step - loss: 0.5104 - accuracy: 0.7435 - val_loss: 0.5761 - val_accuracy: 0.7078\n",
            "Epoch 125/200\n",
            "29/29 [==============================] - 0s 3ms/step - loss: 0.5101 - accuracy: 0.7478 - val_loss: 0.5754 - val_accuracy: 0.7013\n",
            "Epoch 126/200\n",
            "29/29 [==============================] - 0s 3ms/step - loss: 0.5097 - accuracy: 0.7457 - val_loss: 0.5751 - val_accuracy: 0.7013\n",
            "Epoch 127/200\n",
            "29/29 [==============================] - 0s 2ms/step - loss: 0.5094 - accuracy: 0.7457 - val_loss: 0.5744 - val_accuracy: 0.6948\n",
            "Epoch 128/200\n",
            "29/29 [==============================] - 0s 3ms/step - loss: 0.5091 - accuracy: 0.7435 - val_loss: 0.5742 - val_accuracy: 0.6948\n",
            "Epoch 129/200\n",
            "29/29 [==============================] - 0s 3ms/step - loss: 0.5089 - accuracy: 0.7457 - val_loss: 0.5749 - val_accuracy: 0.7078\n",
            "Epoch 130/200\n",
            "29/29 [==============================] - 0s 3ms/step - loss: 0.5085 - accuracy: 0.7478 - val_loss: 0.5740 - val_accuracy: 0.6948\n",
            "Epoch 131/200\n",
            "29/29 [==============================] - 0s 3ms/step - loss: 0.5082 - accuracy: 0.7435 - val_loss: 0.5736 - val_accuracy: 0.6948\n",
            "Epoch 132/200\n",
            "29/29 [==============================] - 0s 3ms/step - loss: 0.5079 - accuracy: 0.7457 - val_loss: 0.5740 - val_accuracy: 0.6948\n",
            "Epoch 133/200\n",
            "29/29 [==============================] - 0s 2ms/step - loss: 0.5076 - accuracy: 0.7435 - val_loss: 0.5731 - val_accuracy: 0.6948\n",
            "Epoch 134/200\n",
            "29/29 [==============================] - 0s 3ms/step - loss: 0.5072 - accuracy: 0.7435 - val_loss: 0.5729 - val_accuracy: 0.6948\n",
            "Epoch 135/200\n",
            "29/29 [==============================] - 0s 3ms/step - loss: 0.5070 - accuracy: 0.7435 - val_loss: 0.5727 - val_accuracy: 0.6948\n",
            "Epoch 136/200\n",
            "29/29 [==============================] - 0s 3ms/step - loss: 0.5066 - accuracy: 0.7435 - val_loss: 0.5725 - val_accuracy: 0.6948\n",
            "Epoch 137/200\n",
            "29/29 [==============================] - 0s 3ms/step - loss: 0.5064 - accuracy: 0.7435 - val_loss: 0.5724 - val_accuracy: 0.6948\n",
            "Epoch 138/200\n",
            "29/29 [==============================] - 0s 3ms/step - loss: 0.5061 - accuracy: 0.7435 - val_loss: 0.5722 - val_accuracy: 0.6948\n",
            "Epoch 139/200\n",
            "29/29 [==============================] - 0s 2ms/step - loss: 0.5058 - accuracy: 0.7413 - val_loss: 0.5715 - val_accuracy: 0.6948\n",
            "Epoch 140/200\n",
            "29/29 [==============================] - 0s 3ms/step - loss: 0.5056 - accuracy: 0.7413 - val_loss: 0.5712 - val_accuracy: 0.6948\n",
            "Epoch 141/200\n",
            "29/29 [==============================] - 0s 3ms/step - loss: 0.5055 - accuracy: 0.7413 - val_loss: 0.5714 - val_accuracy: 0.6948\n",
            "Epoch 142/200\n",
            "29/29 [==============================] - 0s 2ms/step - loss: 0.5051 - accuracy: 0.7391 - val_loss: 0.5702 - val_accuracy: 0.6948\n",
            "Epoch 143/200\n",
            "29/29 [==============================] - 0s 3ms/step - loss: 0.5047 - accuracy: 0.7370 - val_loss: 0.5703 - val_accuracy: 0.6948\n",
            "Epoch 144/200\n",
            "29/29 [==============================] - 0s 3ms/step - loss: 0.5043 - accuracy: 0.7391 - val_loss: 0.5702 - val_accuracy: 0.6948\n",
            "Epoch 145/200\n",
            "29/29 [==============================] - 0s 3ms/step - loss: 0.5041 - accuracy: 0.7435 - val_loss: 0.5702 - val_accuracy: 0.6948\n",
            "Epoch 146/200\n",
            "29/29 [==============================] - 0s 3ms/step - loss: 0.5039 - accuracy: 0.7413 - val_loss: 0.5699 - val_accuracy: 0.6948\n",
            "Epoch 147/200\n",
            "29/29 [==============================] - 0s 3ms/step - loss: 0.5036 - accuracy: 0.7391 - val_loss: 0.5696 - val_accuracy: 0.6948\n",
            "Epoch 148/200\n",
            "29/29 [==============================] - 0s 3ms/step - loss: 0.5034 - accuracy: 0.7391 - val_loss: 0.5697 - val_accuracy: 0.6948\n",
            "Epoch 149/200\n",
            "29/29 [==============================] - 0s 3ms/step - loss: 0.5030 - accuracy: 0.7391 - val_loss: 0.5692 - val_accuracy: 0.6948\n",
            "Epoch 150/200\n",
            "29/29 [==============================] - 0s 3ms/step - loss: 0.5029 - accuracy: 0.7348 - val_loss: 0.5687 - val_accuracy: 0.7013\n",
            "Epoch 151/200\n",
            "29/29 [==============================] - 0s 3ms/step - loss: 0.5026 - accuracy: 0.7370 - val_loss: 0.5686 - val_accuracy: 0.7013\n",
            "Epoch 152/200\n",
            "29/29 [==============================] - 0s 3ms/step - loss: 0.5026 - accuracy: 0.7413 - val_loss: 0.5683 - val_accuracy: 0.7013\n",
            "Epoch 153/200\n",
            "29/29 [==============================] - 0s 3ms/step - loss: 0.5021 - accuracy: 0.7391 - val_loss: 0.5684 - val_accuracy: 0.7013\n",
            "Epoch 154/200\n",
            "29/29 [==============================] - 0s 3ms/step - loss: 0.5019 - accuracy: 0.7348 - val_loss: 0.5679 - val_accuracy: 0.7013\n",
            "Epoch 155/200\n",
            "29/29 [==============================] - 0s 3ms/step - loss: 0.5016 - accuracy: 0.7348 - val_loss: 0.5674 - val_accuracy: 0.7013\n",
            "Epoch 156/200\n",
            "29/29 [==============================] - 0s 3ms/step - loss: 0.5016 - accuracy: 0.7326 - val_loss: 0.5678 - val_accuracy: 0.7013\n",
            "Epoch 157/200\n",
            "29/29 [==============================] - 0s 3ms/step - loss: 0.5011 - accuracy: 0.7348 - val_loss: 0.5675 - val_accuracy: 0.7013\n",
            "Epoch 158/200\n",
            "29/29 [==============================] - 0s 3ms/step - loss: 0.5009 - accuracy: 0.7326 - val_loss: 0.5666 - val_accuracy: 0.7013\n",
            "Epoch 159/200\n",
            "29/29 [==============================] - 0s 3ms/step - loss: 0.5009 - accuracy: 0.7326 - val_loss: 0.5666 - val_accuracy: 0.7013\n",
            "Epoch 160/200\n",
            "29/29 [==============================] - 0s 2ms/step - loss: 0.5005 - accuracy: 0.7304 - val_loss: 0.5661 - val_accuracy: 0.7013\n",
            "Epoch 161/200\n",
            "29/29 [==============================] - 0s 3ms/step - loss: 0.5004 - accuracy: 0.7304 - val_loss: 0.5657 - val_accuracy: 0.7013\n",
            "Epoch 162/200\n",
            "29/29 [==============================] - 0s 3ms/step - loss: 0.5000 - accuracy: 0.7304 - val_loss: 0.5655 - val_accuracy: 0.7013\n",
            "Epoch 163/200\n",
            "29/29 [==============================] - 0s 3ms/step - loss: 0.4997 - accuracy: 0.7326 - val_loss: 0.5658 - val_accuracy: 0.7013\n",
            "Epoch 164/200\n",
            "29/29 [==============================] - 0s 3ms/step - loss: 0.4995 - accuracy: 0.7326 - val_loss: 0.5653 - val_accuracy: 0.7013\n",
            "Epoch 165/200\n",
            "29/29 [==============================] - 0s 3ms/step - loss: 0.4993 - accuracy: 0.7304 - val_loss: 0.5649 - val_accuracy: 0.7013\n",
            "Epoch 166/200\n",
            "29/29 [==============================] - 0s 3ms/step - loss: 0.4995 - accuracy: 0.7370 - val_loss: 0.5656 - val_accuracy: 0.7013\n",
            "Epoch 167/200\n",
            "29/29 [==============================] - 0s 3ms/step - loss: 0.4989 - accuracy: 0.7326 - val_loss: 0.5649 - val_accuracy: 0.7013\n",
            "Epoch 168/200\n",
            "29/29 [==============================] - 0s 3ms/step - loss: 0.4987 - accuracy: 0.7326 - val_loss: 0.5647 - val_accuracy: 0.7013\n",
            "Epoch 169/200\n",
            "29/29 [==============================] - 0s 3ms/step - loss: 0.4986 - accuracy: 0.7326 - val_loss: 0.5639 - val_accuracy: 0.7013\n",
            "Epoch 170/200\n",
            "29/29 [==============================] - 0s 3ms/step - loss: 0.4982 - accuracy: 0.7283 - val_loss: 0.5641 - val_accuracy: 0.7013\n",
            "Epoch 171/200\n",
            "29/29 [==============================] - 0s 3ms/step - loss: 0.4980 - accuracy: 0.7326 - val_loss: 0.5640 - val_accuracy: 0.7013\n",
            "Epoch 172/200\n",
            "29/29 [==============================] - 0s 3ms/step - loss: 0.4977 - accuracy: 0.7326 - val_loss: 0.5638 - val_accuracy: 0.7013\n",
            "Epoch 173/200\n",
            "29/29 [==============================] - 0s 3ms/step - loss: 0.4976 - accuracy: 0.7348 - val_loss: 0.5635 - val_accuracy: 0.7013\n",
            "Epoch 174/200\n",
            "29/29 [==============================] - 0s 3ms/step - loss: 0.4974 - accuracy: 0.7326 - val_loss: 0.5632 - val_accuracy: 0.7013\n",
            "Epoch 175/200\n",
            "29/29 [==============================] - 0s 3ms/step - loss: 0.4973 - accuracy: 0.7326 - val_loss: 0.5632 - val_accuracy: 0.7013\n",
            "Epoch 176/200\n",
            "29/29 [==============================] - 0s 2ms/step - loss: 0.4970 - accuracy: 0.7326 - val_loss: 0.5625 - val_accuracy: 0.7078\n",
            "Epoch 177/200\n",
            "29/29 [==============================] - 0s 3ms/step - loss: 0.4968 - accuracy: 0.7326 - val_loss: 0.5622 - val_accuracy: 0.7078\n",
            "Epoch 178/200\n",
            "29/29 [==============================] - 0s 3ms/step - loss: 0.4966 - accuracy: 0.7326 - val_loss: 0.5620 - val_accuracy: 0.7078\n",
            "Epoch 179/200\n",
            "29/29 [==============================] - 0s 3ms/step - loss: 0.4964 - accuracy: 0.7326 - val_loss: 0.5623 - val_accuracy: 0.7013\n",
            "Epoch 180/200\n",
            "29/29 [==============================] - 0s 2ms/step - loss: 0.4962 - accuracy: 0.7370 - val_loss: 0.5617 - val_accuracy: 0.7013\n",
            "Epoch 181/200\n",
            "29/29 [==============================] - 0s 3ms/step - loss: 0.4961 - accuracy: 0.7326 - val_loss: 0.5618 - val_accuracy: 0.7078\n",
            "Epoch 182/200\n",
            "29/29 [==============================] - 0s 3ms/step - loss: 0.4960 - accuracy: 0.7326 - val_loss: 0.5621 - val_accuracy: 0.7013\n",
            "Epoch 183/200\n",
            "29/29 [==============================] - 0s 3ms/step - loss: 0.4955 - accuracy: 0.7348 - val_loss: 0.5611 - val_accuracy: 0.7013\n",
            "Epoch 184/200\n",
            "29/29 [==============================] - 0s 3ms/step - loss: 0.4954 - accuracy: 0.7326 - val_loss: 0.5604 - val_accuracy: 0.7013\n",
            "Epoch 185/200\n",
            "29/29 [==============================] - 0s 3ms/step - loss: 0.4953 - accuracy: 0.7326 - val_loss: 0.5604 - val_accuracy: 0.7013\n",
            "Epoch 186/200\n",
            "29/29 [==============================] - 0s 3ms/step - loss: 0.4951 - accuracy: 0.7348 - val_loss: 0.5607 - val_accuracy: 0.7013\n",
            "Epoch 187/200\n",
            "29/29 [==============================] - 0s 3ms/step - loss: 0.4948 - accuracy: 0.7348 - val_loss: 0.5607 - val_accuracy: 0.7013\n",
            "Epoch 188/200\n",
            "29/29 [==============================] - 0s 3ms/step - loss: 0.4947 - accuracy: 0.7326 - val_loss: 0.5603 - val_accuracy: 0.7013\n",
            "Epoch 189/200\n",
            "29/29 [==============================] - 0s 3ms/step - loss: 0.4944 - accuracy: 0.7326 - val_loss: 0.5600 - val_accuracy: 0.7013\n",
            "Epoch 190/200\n",
            "29/29 [==============================] - 0s 3ms/step - loss: 0.4943 - accuracy: 0.7326 - val_loss: 0.5596 - val_accuracy: 0.6948\n",
            "Epoch 191/200\n",
            "29/29 [==============================] - 0s 3ms/step - loss: 0.4941 - accuracy: 0.7348 - val_loss: 0.5593 - val_accuracy: 0.6948\n",
            "Epoch 192/200\n",
            "29/29 [==============================] - 0s 3ms/step - loss: 0.4942 - accuracy: 0.7326 - val_loss: 0.5595 - val_accuracy: 0.6948\n",
            "Epoch 193/200\n",
            "29/29 [==============================] - 0s 2ms/step - loss: 0.4940 - accuracy: 0.7348 - val_loss: 0.5596 - val_accuracy: 0.7013\n",
            "Epoch 194/200\n",
            "29/29 [==============================] - 0s 3ms/step - loss: 0.4939 - accuracy: 0.7326 - val_loss: 0.5585 - val_accuracy: 0.7013\n",
            "Epoch 195/200\n",
            "29/29 [==============================] - 0s 3ms/step - loss: 0.4937 - accuracy: 0.7348 - val_loss: 0.5582 - val_accuracy: 0.7013\n",
            "Epoch 196/200\n",
            "29/29 [==============================] - 0s 3ms/step - loss: 0.4935 - accuracy: 0.7348 - val_loss: 0.5587 - val_accuracy: 0.6948\n",
            "Epoch 197/200\n",
            "29/29 [==============================] - 0s 3ms/step - loss: 0.4931 - accuracy: 0.7326 - val_loss: 0.5581 - val_accuracy: 0.7013\n",
            "Epoch 198/200\n",
            "29/29 [==============================] - 0s 3ms/step - loss: 0.4931 - accuracy: 0.7370 - val_loss: 0.5586 - val_accuracy: 0.6948\n",
            "Epoch 199/200\n",
            "29/29 [==============================] - 0s 2ms/step - loss: 0.4927 - accuracy: 0.7370 - val_loss: 0.5580 - val_accuracy: 0.7013\n",
            "Epoch 200/200\n",
            "29/29 [==============================] - 0s 3ms/step - loss: 0.4926 - accuracy: 0.7348 - val_loss: 0.5572 - val_accuracy: 0.6948\n"
          ]
        }
      ]
    },
    {
      "cell_type": "markdown",
      "metadata": {
        "id": "80o1i3fzZsA-"
      },
      "source": [
        "**11. Plot the training loss and accuracy**"
      ]
    },
    {
      "cell_type": "code",
      "source": [
        "import matplotlib.pyplot as plt \n",
        "acc = hist.history['accuracy']\n",
        "val_acc = hist.history['val_accuracy']\n",
        "loss = hist.history['loss']\n",
        "val_loss = hist.history['val_loss']\n",
        " \n",
        "epochs = range(len(acc))\n",
        " \n",
        "plt.plot(epochs, acc, 'b', label='Training acc')\n",
        "plt.plot(epochs, val_acc, 'r', label='Validation acc')\n",
        "plt.title('Training and validation accuracy')\n",
        "plt.legend()\n",
        "plt.savefig('custom_trainvalacc.png')\n",
        "plt.figure()\n",
        " \n",
        "plt.plot(epochs, loss, 'b', label='Training loss')\n",
        "plt.plot(epochs, val_loss, 'r', label='Validation loss')\n",
        "plt.title('Training and validation loss')\n",
        "plt.legend()\n",
        " \n",
        "#plt.show()\n",
        "plt.savefig('custom_trainvalloss.png')\n",
        "plt.figure()"
      ],
      "metadata": {
        "colab": {
          "base_uri": "https://localhost:8080/",
          "height": 580
        },
        "id": "69dOEi6HAiXT",
        "outputId": "a9a6289f-cf35-481a-ac80-c3312d59fd4e"
      },
      "execution_count": null,
      "outputs": [
        {
          "output_type": "execute_result",
          "data": {
            "text/plain": [
              "<Figure size 432x288 with 0 Axes>"
            ]
          },
          "metadata": {},
          "execution_count": 43
        },
        {
          "output_type": "display_data",
          "data": {
            "text/plain": [
              "<Figure size 432x288 with 1 Axes>"
            ],
            "image/png": "[encoded data removed]"
          },
          "metadata": {
            "needs_background": "light"
          }
        },
        {
          "output_type": "display_data",
          "data": {
            "text/plain": [
              "<Figure size 432x288 with 1 Axes>"
            ],
            "image/png": "[encoded data removed]"
          },
          "metadata": {
            "needs_background": "light"
          }
        },
        {
          "output_type": "display_data",
          "data": {
            "text/plain": [
              "<Figure size 432x288 with 0 Axes>"
            ]
          },
          "metadata": {}
        }
      ]
    },
    {
      "cell_type": "markdown",
      "metadata": {
        "id": "a8fUXoqeZvwf"
      },
      "source": [
        "**12. Evaluate the performance**"
      ]
    },
    {
      "cell_type": "code",
      "metadata": {
        "colab": {
          "base_uri": "https://localhost:8080/"
        },
        "id": "wawHhkURYMLE",
        "outputId": "038f28b4-210c-43fa-91e9-73479baf283c"
      },
      "source": [
        "res =model.evaluate(X_testing, Y_testing)"
      ],
      "execution_count": null,
      "outputs": [
        {
          "output_type": "stream",
          "name": "stdout",
          "text": [
            "5/5 [==============================] - 0s 3ms/step - loss: 0.5638 - accuracy: 0.6623\n"
          ]
        }
      ]
    },
    {
      "cell_type": "markdown",
      "metadata": {
        "id": "0WCSw36oZyG_"
      },
      "source": [
        "**13. Predict on new datatset**\n"
      ]
    },
    {
      "cell_type": "code",
      "metadata": {
        "colab": {
          "base_uri": "https://localhost:8080/"
        },
        "id": "CcE27mGFYo3G",
        "outputId": "809ffe10-c29c-4990-e1f5-39917377209a"
      },
      "source": [
        "test=X_testing[0]\n",
        "y_act=Y_testing[0]\n",
        "result=model.predict(test.reshape(1,8))\n",
        "result"
      ],
      "execution_count": null,
      "outputs": [
        {
          "output_type": "execute_result",
          "data": {
            "text/plain": [
              "array([[0.45582914, 0.54417086]], dtype=float32)"
            ]
          },
          "metadata": {},
          "execution_count": 25
        }
      ]
    },
    {
      "cell_type": "code",
      "metadata": {
        "colab": {
          "base_uri": "https://localhost:8080/"
        },
        "id": "T4RDC-ZHYqv_",
        "outputId": "bd9724db-09c4-4435-e3a0-68b64721fd10"
      },
      "source": [
        "import numpy as np\n",
        "y_pred = np.round(result)\n",
        "print(\"Actual:\"+ str(y_act))\n",
        "print(\"Predicted:\"+str(y_pred))"
      ],
      "execution_count": null,
      "outputs": [
        {
          "output_type": "stream",
          "name": "stdout",
          "text": [
            "Actual:[1. 0.]\n",
            "Predicted:[[0. 1.]]\n"
          ]
        }
      ]
    },
    {
      "cell_type": "markdown",
      "metadata": {
        "id": "E9mMqJtXYz2Q"
      },
      "source": [
        "**Reference:** - https://keras.io/"
      ]
    }
  ]
}
